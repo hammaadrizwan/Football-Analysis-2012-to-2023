{
 "cells": [
  {
   "cell_type": "markdown",
   "id": "ad4a10d1",
   "metadata": {},
   "source": [
    "# Football Analysis (2012 to 2023) Data engineering project "
   ]
  },
  {
   "cell_type": "markdown",
   "id": "9d4c3518",
   "metadata": {},
   "source": [
    "#### GET Postgres to work on Python"
   ]
  },
  {
   "cell_type": "code",
   "execution_count": 1,
   "id": "ba380d7f",
   "metadata": {},
   "outputs": [],
   "source": [
    "import psycopg2 #Postgres with Python"
   ]
  },
  {
   "cell_type": "markdown",
   "id": "7c182dcf",
   "metadata": {},
   "source": [
    "\n",
    "#### Establishing the connection with Postgres and Creating a new Database"
   ]
  },
  {
   "cell_type": "code",
   "execution_count": 3,
   "id": "3a7b7235",
   "metadata": {},
   "outputs": [
    {
     "name": "stdout",
     "output_type": "stream",
     "text": [
      "database \"football_analysis\" already exists\n",
      "\n"
     ]
    }
   ],
   "source": [
    "try: \n",
    "    conn = psycopg2.connect(\"host=127.0.0.1 dbname=postgres user=postgres password=Hammaad@Rizwan\")\n",
    "except psycopg2.Error as e: \n",
    "    print(\"Error: Could not make connection to the Postgres database\")\n",
    "    print(e)#Establishing conneion with the database\n",
    "    \n",
    "try: \n",
    "    cur = conn.cursor()#Cursor is a method tat allows us to use the database.Allows Python code to execute PostgreSQL command in a database session\n",
    "except psycopg2.Error as e: \n",
    "    print(\"Error: Could not get curser to the Database\")\n",
    "    print(e)\n",
    "\n",
    "conn.set_session(autocommit=True)#like autosave\n",
    "try: \n",
    "    cur.execute(\"create database football_Analysis\")#Creates a table called football analysis\n",
    "except psycopg2.Error as e:\n",
    "    print(e)"
   ]
  },
  {
   "cell_type": "markdown",
   "id": "9a3a29d4",
   "metadata": {},
   "source": [
    "#### Closes the main connection, and reopens it in the new Database"
   ]
  },
  {
   "cell_type": "code",
   "execution_count": 4,
   "id": "826444c2",
   "metadata": {},
   "outputs": [],
   "source": [
    "try: \n",
    "    conn.close()#Closes the connection\n",
    "except psycopg2.Error as e:\n",
    "    print(e)\n",
    "    \n",
    "try: #Reopens the connection under the new database\n",
    "    conn = psycopg2.connect(\"host=127.0.0.1 dbname=football_analysis user=postgres password=Hammaad@Rizwan\")\n",
    "except psycopg2.Error as e: \n",
    "    print(\"Error: Could not make connection to the Postgres database\")\n",
    "    print(e)\n",
    "    \n",
    "try: \n",
    "    cur = conn.cursor()\n",
    "except psycopg2.Error as e: \n",
    "    print(\"Error: Could not get curser to the Database\")\n",
    "    print(e)"
   ]
  },
  {
   "cell_type": "markdown",
   "id": "901a01ce",
   "metadata": {},
   "source": [
    "#### Creating 4 tables\n",
    "\n",
    "\n",
    "4 Tables have been created with the relavant Primary and forieng keys "
   ]
  },
  {
   "cell_type": "code",
   "execution_count": 25,
   "id": "887c6efc",
   "metadata": {},
   "outputs": [],
   "source": [
    "try: \n",
    "    conn = psycopg2.connect(\"host=127.0.0.1 dbname=football_analysis user=postgres password=Hammaad@Rizwan\")\n",
    "except psycopg2.Error as e: \n",
    "    print(\"Error: Could not make connection to the Postgres database\")\n",
    "    print(e)#Establishing conneion with the database\n",
    "    \n",
    "try: \n",
    "    cur = conn.cursor()#Cursor is a method tat allows us to use the database.Allows Python code to execute PostgreSQL command in a database session\n",
    "except psycopg2.Error as e: \n",
    "    print(\"Error: Could not get curser to the Database\")\n",
    "    print(e)\n",
    "\n",
    "conn.set_session(autocommit=True)#like autosave\n",
    "try: \n",
    "    cur.execute(\"CREATE TABLE competitions(competition_ID VARCHAR, Name VARCHAR, type VARCHAR,sub_type VARCHAR,PRIMARY KEY(competition_ID));\")\n",
    "    cur.execute(\"CREATE TABLE clubs(club_ID int,Name VARCHAR,competition_ID VARCHAR,squad_size int,PRIMARY KEY(club_ID));\")\n",
    "    cur.execute(\"CREATE TABLE players(player_ID int,club_ID int,Date_of_birth VARCHAR,sub_position VARCHAR, foot VARCHAR, height int,competition_ID VARCHAR,First_name VARCHAR,Last_name VARCHAR,PRIMARY KEY(player_ID));\")\n",
    "    cur.execute(\"CREATE TABLE GAMES(game_ID int,competition_ID VARCHAR, Date VARCHAR, Home_club_ID int,Away_club_ID int,Home_club_goals int,Away_club_goals int,PRIMARY KEY(game_ID));\")\n",
    "\n",
    "except psycopg2.Error as e:\n",
    "    print(e)"
   ]
  },
  {
   "cell_type": "markdown",
   "id": "1250a8c0",
   "metadata": {},
   "source": [
    "## Reading files using Panda"
   ]
  },
  {
   "cell_type": "code",
   "execution_count": 6,
   "id": "eb2d74fe",
   "metadata": {},
   "outputs": [],
   "source": [
    "import pandas as pd"
   ]
  },
  {
   "cell_type": "code",
   "execution_count": 22,
   "id": "e6e46d79",
   "metadata": {},
   "outputs": [],
   "source": [
    "competitions = pd.read_csv(\"competitons.csv\")\n",
    "clubs = pd.read_csv(\"C:\\\\Users\\\\Hammaad\\\\Documents\\\\clubs.csv\")\n",
    "players = pd.read_csv(\"C:\\\\Users\\\\Hammaad\\\\Documents\\\\players.csv\")\n",
    "games = pd.read_csv(\"game.csv\")"
   ]
  },
  {
   "cell_type": "markdown",
   "id": "a77312b1",
   "metadata": {},
   "source": [
    "## Cleaning data"
   ]
  },
  {
   "cell_type": "code",
   "execution_count": 9,
   "id": "3cfcfeeb",
   "metadata": {
    "scrolled": true
   },
   "outputs": [
    {
     "data": {
      "text/html": [
       "<div>\n",
       "<style scoped>\n",
       "    .dataframe tbody tr th:only-of-type {\n",
       "        vertical-align: middle;\n",
       "    }\n",
       "\n",
       "    .dataframe tbody tr th {\n",
       "        vertical-align: top;\n",
       "    }\n",
       "\n",
       "    .dataframe thead th {\n",
       "        text-align: right;\n",
       "    }\n",
       "</style>\n",
       "<table border=\"1\" class=\"dataframe\">\n",
       "  <thead>\n",
       "    <tr style=\"text-align: right;\">\n",
       "      <th></th>\n",
       "      <th>player_id</th>\n",
       "      <th>current_club_id</th>\n",
       "      <th>date_of_birth</th>\n",
       "      <th>sub_position</th>\n",
       "      <th>foot</th>\n",
       "      <th>height_in_cm</th>\n",
       "      <th>current_club_domestic_competition_id</th>\n",
       "      <th>first_name</th>\n",
       "      <th>last_name</th>\n",
       "    </tr>\n",
       "  </thead>\n",
       "  <tbody>\n",
       "    <tr>\n",
       "      <th>28366</th>\n",
       "      <td>452068</td>\n",
       "      <td>15</td>\n",
       "      <td>10 04 2001</td>\n",
       "      <td>Defensive Midfield</td>\n",
       "      <td>NaN</td>\n",
       "      <td>175</td>\n",
       "      <td>L1</td>\n",
       "      <td>Ayman</td>\n",
       "      <td>Azhil</td>\n",
       "    </tr>\n",
       "    <tr>\n",
       "      <th>28367</th>\n",
       "      <td>85543</td>\n",
       "      <td>15</td>\n",
       "      <td>28 07 1993</td>\n",
       "      <td>NaN</td>\n",
       "      <td>Right</td>\n",
       "      <td>186</td>\n",
       "      <td>L1</td>\n",
       "      <td>Niklas</td>\n",
       "      <td>Lomb</td>\n",
       "    </tr>\n",
       "    <tr>\n",
       "      <th>28368</th>\n",
       "      <td>315131</td>\n",
       "      <td>15</td>\n",
       "      <td>2 01 1998</td>\n",
       "      <td>Right-Back</td>\n",
       "      <td>Right</td>\n",
       "      <td>185</td>\n",
       "      <td>L1</td>\n",
       "      <td>Timothy</td>\n",
       "      <td>Fosu-Mensah</td>\n",
       "    </tr>\n",
       "    <tr>\n",
       "      <th>28369</th>\n",
       "      <td>39728</td>\n",
       "      <td>16</td>\n",
       "      <td>16 12 1988</td>\n",
       "      <td>Centre-Back</td>\n",
       "      <td>Right</td>\n",
       "      <td>191</td>\n",
       "      <td>L1</td>\n",
       "      <td>Mats</td>\n",
       "      <td>Hummels</td>\n",
       "    </tr>\n",
       "    <tr>\n",
       "      <th>28370</th>\n",
       "      <td>659813</td>\n",
       "      <td>15</td>\n",
       "      <td>9 01 2002</td>\n",
       "      <td>Centre-Back</td>\n",
       "      <td>Left</td>\n",
       "      <td>183</td>\n",
       "      <td>L1</td>\n",
       "      <td>Piero</td>\n",
       "      <td>Hincapié</td>\n",
       "    </tr>\n",
       "  </tbody>\n",
       "</table>\n",
       "</div>"
      ],
      "text/plain": [
       "       player_id  current_club_id date_of_birth        sub_position   foot  \\\n",
       "28366     452068               15    10 04 2001  Defensive Midfield    NaN   \n",
       "28367      85543               15    28 07 1993                 NaN  Right   \n",
       "28368     315131               15     2 01 1998          Right-Back  Right   \n",
       "28369      39728               16    16 12 1988         Centre-Back  Right   \n",
       "28370     659813               15     9 01 2002         Centre-Back   Left   \n",
       "\n",
       "       height_in_cm current_club_domestic_competition_id first_name  \\\n",
       "28366           175                                   L1      Ayman   \n",
       "28367           186                                   L1     Niklas   \n",
       "28368           185                                   L1    Timothy   \n",
       "28369           191                                   L1       Mats   \n",
       "28370           183                                   L1      Piero   \n",
       "\n",
       "         last_name  \n",
       "28366        Azhil  \n",
       "28367         Lomb  \n",
       "28368  Fosu-Mensah  \n",
       "28369      Hummels  \n",
       "28370     Hincapié  "
      ]
     },
     "execution_count": 9,
     "metadata": {},
     "output_type": "execute_result"
    }
   ],
   "source": [
    "#competition data is clean, no missing values"
   ]
  },
  {
   "cell_type": "code",
   "execution_count": 106,
   "id": "e20c440f",
   "metadata": {},
   "outputs": [],
   "source": [
    "\n",
    "pos=players[\"first_name\"].mode()[0]\n",
    "for i in range(len(players[\"first_name\"])):\n",
    "    if players[\"first_name\"][i]==\"nan\":\n",
    "        players[\"first_name\"][i]=players[\"first_name\"].mode()[0]\n",
    "\n",
    "    "
   ]
  },
  {
   "cell_type": "markdown",
   "id": "b60d155d",
   "metadata": {},
   "source": [
    "## Reading the csv file using pandas and then by iterating each row we insert it to the relavant table"
   ]
  },
  {
   "cell_type": "markdown",
   "id": "be920238",
   "metadata": {},
   "source": [
    "#### Populating competitions table"
   ]
  },
  {
   "cell_type": "code",
   "execution_count": 14,
   "id": "d1aee8e6",
   "metadata": {},
   "outputs": [],
   "source": [
    "try:\n",
    "    # Establish a connection to your PostgreSQL database\n",
    "    conn = psycopg2.connect(\"host=127.0.0.1 dbname=football_analysis user=postgres password=Hammaad@Rizwan\")\n",
    "    cur = conn.cursor()\n",
    "\n",
    "    # Begin a new transaction\n",
    "    cur.execute(\"BEGIN\")\n",
    "\n",
    "    competitions_insert = (\"\"\"INSERT INTO competitions(\n",
    "    competition_id ,\n",
    "    name ,\n",
    "    type ,\n",
    "    sub_type)  VALUES(%s,%s,%s,%s)\"\"\")\n",
    "    #games_insert = (\"\"\"INSERT INTO games(Game_ID,competition_ID , Date , Home_club_ID ,Away_club_ID ,Home_club_goals ,Away_club_goals ) VALUES(%s,%s,%s,%s,%s,%s,%s)\"\"\")\n",
    "    \n",
    "    \n",
    "    # Iterate over the rows of the 'competitions' DataFrame and execute the SQL statement\n",
    " \n",
    "    for i, row in competitions.iterrows():\n",
    "        cur.execute(competitions_insert, list(row))\n",
    "    cur.execute(\"COMMIT\")\n",
    "\n",
    "except psycopg2.DatabaseError as e:\n",
    "    # Rollback the transaction and handle the error\n",
    "    conn.rollback()\n",
    "    print(\"Transaction failed and rolled back:\", str(e))\n",
    "\n",
    "finally:\n",
    "    # Close the cursor and connection\n",
    "    if cur:\n",
    "        cur.close()\n",
    "    if conn:\n",
    "        conn.close()"
   ]
  },
  {
   "cell_type": "markdown",
   "id": "fa7c9fd2",
   "metadata": {},
   "source": [
    "#### Populating clubs table"
   ]
  },
  {
   "cell_type": "code",
   "execution_count": 43,
   "id": "aea40168",
   "metadata": {},
   "outputs": [],
   "source": [
    "try:\n",
    "    # Establish a connection to your PostgreSQL database\n",
    "    conn = psycopg2.connect(\"host=127.0.0.1 dbname=football_analysis user=postgres password=Hammaad@Rizwan\")\n",
    "    cur = conn.cursor()\n",
    "\n",
    "    # Begin a new transaction\n",
    "    cur.execute(\"BEGIN\")\n",
    "\n",
    "    clubs_insert = (\"\"\"INSERT INTO clubs(\n",
    "    club_id ,\n",
    "    name ,\n",
    "    competition_id ,\n",
    "    squad_size)  VALUES(%s,%s,%s,%s)\"\"\")\n",
    "\n",
    "    # Iterate over the rows of the 'clubs' DataFrame and execute the SQL statement\n",
    " \n",
    "    for i, row in clubs.iterrows():\n",
    "        cur.execute(clubs_insert, list(row))\n",
    "    cur.execute(\"COMMIT\")\n",
    "\n",
    "except psycopg2.DatabaseError as e:\n",
    "    # Rollback the transaction and handle the error\n",
    "    conn.rollback()\n",
    "    print(\"Transaction failed and rolled back:\", str(e))\n",
    "\n",
    "finally:\n",
    "    # Close the cursor and connection\n",
    "    if cur:\n",
    "        cur.close()\n",
    "    if conn:\n",
    "        conn.close()"
   ]
  },
  {
   "cell_type": "markdown",
   "id": "8d171864",
   "metadata": {},
   "source": [
    "#### Populating players table"
   ]
  },
  {
   "cell_type": "code",
   "execution_count": 107,
   "id": "478d47e9",
   "metadata": {},
   "outputs": [],
   "source": [
    "try:\n",
    "    # Establish a connection to your PostgreSQL database\n",
    "    conn = psycopg2.connect(\"host=127.0.0.1 dbname=football_analysis user=postgres password=Hammaad@Rizwan\")\n",
    "    cur = conn.cursor()\n",
    "\n",
    "    # Begin a new transaction\n",
    "    cur.execute(\"BEGIN\")\n",
    "\n",
    "    players_insert = (\"\"\"INSERT INTO players(\n",
    "    player_id ,\n",
    "    club_id ,\n",
    "    date_of_birth ,\n",
    "    sub_position,\n",
    "    foot,\n",
    "    height,\n",
    "    competition_id,\n",
    "    first_name,\n",
    "    last_name)  VALUES(%s,%s,%s,%s,%s,%s,%s,%s,%s)\"\"\")\n",
    "\n",
    "    # Iterate over the rows of the 'clubs' DataFrame and execute the SQL statement\n",
    " \n",
    "    for i, row in players.iterrows():\n",
    "        cur.execute(players_insert, list(row))\n",
    "    cur.execute(\"COMMIT\")\n",
    "\n",
    "except psycopg2.DatabaseError as e:\n",
    "    # Rollback the transaction and handle the error\n",
    "    conn.rollback()\n",
    "    print(\"Transaction failed and rolled back:\", str(e))\n",
    "\n",
    "finally:\n",
    "    # Close the cursor and connection\n",
    "    if cur:\n",
    "        cur.close()\n",
    "    if conn:\n",
    "        conn.close()"
   ]
  },
  {
   "cell_type": "markdown",
   "id": "60977043",
   "metadata": {},
   "source": [
    "#### Populating games table"
   ]
  },
  {
   "cell_type": "code",
   "execution_count": 118,
   "id": "7b6d9a6f",
   "metadata": {},
   "outputs": [],
   "source": [
    "try:\n",
    "    # Establish a connection to your PostgreSQL database\n",
    "    conn = psycopg2.connect(\"host=127.0.0.1 dbname=football_analysis user=postgres password=Hammaad@Rizwan\")\n",
    "    cur = conn.cursor()\n",
    "\n",
    "    # Begin a new transaction\n",
    "    cur.execute(\"BEGIN\")\n",
    "\n",
    "    games_insert = (\"\"\"INSERT INTO games(\n",
    "    game_id ,\n",
    "    competition_id ,\n",
    "    date ,\n",
    "    home_club_id,\n",
    "    away_club_id,\n",
    "    home_club_goals,\n",
    "    away_club_goals)  VALUES(%s,%s,%s,%s,%s,%s,%s)\"\"\")\n",
    "\n",
    "    # Iterate over the rows of the 'clubs' DataFrame and execute the SQL statement\n",
    " \n",
    "    for i, row in games.iterrows():\n",
    "        cur.execute(games_insert, list(row))\n",
    "    cur.execute(\"COMMIT\")\n",
    "\n",
    "except psycopg2.DatabaseError as e:\n",
    "    # Rollback the transaction and handle the error\n",
    "    conn.rollback()\n",
    "    print(\"Transaction failed and rolled back:\", str(e))\n",
    "\n",
    "finally:\n",
    "    # Close the cursor and connection\n",
    "    if cur:\n",
    "        cur.close()\n",
    "    if conn:\n",
    "        conn.close()"
   ]
  }
 ],
 "metadata": {
  "kernelspec": {
   "display_name": "Python 3",
   "language": "python",
   "name": "python3"
  },
  "language_info": {
   "codemirror_mode": {
    "name": "ipython",
    "version": 3
   },
   "file_extension": ".py",
   "mimetype": "text/x-python",
   "name": "python",
   "nbconvert_exporter": "python",
   "pygments_lexer": "ipython3",
   "version": "3.8.8"
  }
 },
 "nbformat": 4,
 "nbformat_minor": 5
}
