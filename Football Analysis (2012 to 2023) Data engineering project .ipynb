{
 "cells": [
  {
   "cell_type": "markdown",
   "id": "ad4a10d1",
   "metadata": {},
   "source": [
    "# Football Analysis (2012 to 2023) Data engineering project "
   ]
  },
  {
   "cell_type": "markdown",
   "id": "9d4c3518",
   "metadata": {},
   "source": [
    "#### GET Postgres to work on Python"
   ]
  },
  {
   "cell_type": "code",
   "execution_count": 23,
   "id": "ba380d7f",
   "metadata": {},
   "outputs": [],
   "source": [
    "import psycopg2 #Postgres with Python"
   ]
  },
  {
   "cell_type": "markdown",
   "id": "7c182dcf",
   "metadata": {},
   "source": [
    "\n",
    "#### Establishing the connection with Postgres and Creating a new Database"
   ]
  },
  {
   "cell_type": "code",
   "execution_count": 80,
   "id": "3a7b7235",
   "metadata": {},
   "outputs": [
    {
     "name": "stdout",
     "output_type": "stream",
     "text": [
      "database \"football_analysis\" already exists\n",
      "\n"
     ]
    }
   ],
   "source": [
    "try: \n",
    "    conn = psycopg2.connect(\"host=127.0.0.1 dbname=postgres user=postgres password=Hammaad@Rizwan\")\n",
    "except psycopg2.Error as e: \n",
    "    print(\"Error: Could not make connection to the Postgres database\")\n",
    "    print(e)#Establishing conneion with the database\n",
    "    \n",
    "try: \n",
    "    cur = conn.cursor()#Cursor is a method tat allows us to use the database.Allows Python code to execute PostgreSQL command in a database session\n",
    "except psycopg2.Error as e: \n",
    "    print(\"Error: Could not get curser to the Database\")\n",
    "    print(e)\n",
    "\n",
    "conn.set_session(autocommit=True)#like autosave\n",
    "try: \n",
    "    cur.execute(\"create database football_Analysis\")#Creates a table called football analysis\n",
    "except psycopg2.Error as e:\n",
    "    print(e)"
   ]
  },
  {
   "cell_type": "markdown",
   "id": "9a3a29d4",
   "metadata": {},
   "source": [
    "#### Closes the main connection, and reopens it in the new Database"
   ]
  },
  {
   "cell_type": "code",
   "execution_count": 57,
   "id": "826444c2",
   "metadata": {},
   "outputs": [],
   "source": [
    "try: \n",
    "    conn.close()#Closes the connection\n",
    "except psycopg2.Error as e:\n",
    "    print(e)\n",
    "    \n",
    "try: #Reopens the connection under the new database\n",
    "    conn = psycopg2.connect(\"host=127.0.0.1 dbname=football_analysis user=postgres password=Hammaad@Rizwan\")\n",
    "except psycopg2.Error as e: \n",
    "    print(\"Error: Could not make connection to the Postgres database\")\n",
    "    print(e)\n",
    "    \n",
    "try: \n",
    "    cur = conn.cursor()\n",
    "except psycopg2.Error as e: \n",
    "    print(\"Error: Could not get curser to the Database\")\n",
    "    print(e)"
   ]
  },
  {
   "cell_type": "markdown",
   "id": "901a01ce",
   "metadata": {},
   "source": [
    "#### Creating 4 tables\n",
    "\n",
    "\n",
    "4 Tables have been created with the relavant Primary and forieng keys "
   ]
  },
  {
   "cell_type": "code",
   "execution_count": 41,
   "id": "887c6efc",
   "metadata": {
    "collapsed": true
   },
   "outputs": [
    {
     "ename": "DuplicateTable",
     "evalue": "relation \"competitions\" already exists\n",
     "output_type": "error",
     "traceback": [
      "\u001b[1;31m---------------------------------------------------------------------------\u001b[0m",
      "\u001b[1;31mDuplicateTable\u001b[0m                            Traceback (most recent call last)",
      "\u001b[1;32m<ipython-input-41-b3281e1c8797>\u001b[0m in \u001b[0;36m<module>\u001b[1;34m\u001b[0m\n\u001b[1;32m----> 1\u001b[1;33m \u001b[0mcur\u001b[0m\u001b[1;33m.\u001b[0m\u001b[0mexecute\u001b[0m\u001b[1;33m(\u001b[0m\u001b[1;34m\"CREATE TABLE competitions(competition_ID VARCHAR, Name VARCHAR, type VARCHAR,sub_type VARCHAR,PRIMARY KEY(competition_ID));\"\u001b[0m\u001b[1;33m)\u001b[0m\u001b[1;33m\u001b[0m\u001b[1;33m\u001b[0m\u001b[0m\n\u001b[0m\u001b[0;32m      2\u001b[0m \u001b[0mcur\u001b[0m\u001b[1;33m.\u001b[0m\u001b[0mexecute\u001b[0m\u001b[1;33m(\u001b[0m\u001b[1;34m\"CREATE TABLE clubs(club_ID int,Name VARCHAR,competition_ID VARCHAR,squad_size int,staduim_name VARCHAR, National_team_player int, Coach_Name VARCHAR,PRIMARY KEY(club_ID),Foreign KEY(competition_ID) REFERENCES competitions(competition_ID));\"\u001b[0m\u001b[1;33m)\u001b[0m\u001b[1;33m\u001b[0m\u001b[1;33m\u001b[0m\u001b[0m\n\u001b[0;32m      3\u001b[0m \u001b[0mcur\u001b[0m\u001b[1;33m.\u001b[0m\u001b[0mexecute\u001b[0m\u001b[1;33m(\u001b[0m\u001b[1;34m\"CREATE TABLE players(player_ID int,club_ID int,Date_of_birth VARCHAR,sub_position VARCHAR, foot VARCHAR, height int,competition_ID VARCHAR,First_name VARCHAR,Last_name VARCHAR,PRIMARY KEY(player_ID),Foreign KEY(club_ID) REFERENCES clubs(club_ID),Foreign KEY(competition_ID) REFERENCES competitions(competition_ID));\"\u001b[0m\u001b[1;33m)\u001b[0m\u001b[1;33m\u001b[0m\u001b[1;33m\u001b[0m\u001b[0m\n\u001b[0;32m      4\u001b[0m \u001b[0mcur\u001b[0m\u001b[1;33m.\u001b[0m\u001b[0mexecute\u001b[0m\u001b[1;33m(\u001b[0m\u001b[1;34m\"CREATE TABLE GAMES(Game_ID int,competition_ID VARCHAR, Date VARCHAR, Home_club_ID int,Away_club_ID int,Home_club_goals int,Away_club_goals int,Foreign KEY(Home_club_ID) REFERENCES clubs(club_ID),Foreign KEY(Away_club_ID) REFERENCES clubs(club_ID),Foreign KEY(competition_ID) REFERENCES competitions(competition_ID));\"\u001b[0m\u001b[1;33m)\u001b[0m\u001b[1;33m\u001b[0m\u001b[1;33m\u001b[0m\u001b[0m\n",
      "\u001b[1;31mDuplicateTable\u001b[0m: relation \"competitions\" already exists\n"
     ]
    }
   ],
   "source": [
    "cur.execute(\"CREATE TABLE competitions(competition_ID VARCHAR, Name VARCHAR, type VARCHAR,sub_type VARCHAR,PRIMARY KEY(competition_ID));\")\n",
    "cur.execute(\"CREATE TABLE clubs(club_ID int,Name VARCHAR,competition_ID VARCHAR,squad_size int,staduim_name VARCHAR, National_team_player int, Coach_Name VARCHAR,PRIMARY KEY(club_ID),Foreign KEY(competition_ID) REFERENCES competitions(competition_ID));\")\n",
    "cur.execute(\"CREATE TABLE players(player_ID int,club_ID int,Date_of_birth VARCHAR,sub_position VARCHAR, foot VARCHAR, height int,competition_ID VARCHAR,First_name VARCHAR,Last_name VARCHAR,PRIMARY KEY(player_ID),Foreign KEY(club_ID) REFERENCES clubs(club_ID),Foreign KEY(competition_ID) REFERENCES competitions(competition_ID));\")\n",
    "cur.execute(\"CREATE TABLE GAMES(Game_ID int,competition_ID VARCHAR, Date VARCHAR, Home_club_ID int,Away_club_ID int,Home_club_goals int,Away_club_goals int,Foreign KEY(Home_club_ID) REFERENCES clubs(club_ID),Foreign KEY(Away_club_ID) REFERENCES clubs(club_ID),Foreign KEY(competition_ID) REFERENCES competitions(competition_ID));\")\n"
   ]
  },
  {
   "cell_type": "markdown",
   "id": "1250a8c0",
   "metadata": {},
   "source": [
    "#### Popuating the tables from the CSV files using Panda"
   ]
  },
  {
   "cell_type": "code",
   "execution_count": 42,
   "id": "eb2d74fe",
   "metadata": {},
   "outputs": [],
   "source": [
    "import pandas as pd"
   ]
  },
  {
   "cell_type": "code",
   "execution_count": 116,
   "id": "e6e46d79",
   "metadata": {},
   "outputs": [],
   "source": [
    "competitions = pd.read_csv(\"competitons.csv\")\n",
    "clubs = pd.read_csv(\"C:\\\\Users\\\\Hammaad\\\\Documents\\\\clubs.csv\")\n",
    "players = pd.read_csv(\"C:\\\\Users\\\\Hammaad\\\\Documents\\\\players.csv\")\n",
    "games = pd.read_csv(\"game.csv\")"
   ]
  },
  {
   "cell_type": "markdown",
   "id": "b60d155d",
   "metadata": {},
   "source": [
    "Reading the csv file using pandas and then by iterating each row we insert it to the relavant table"
   ]
  },
  {
   "cell_type": "code",
   "execution_count": 127,
   "id": "90cca717",
   "metadata": {},
   "outputs": [
    {
     "data": {
      "text/html": [
       "<div>\n",
       "<style scoped>\n",
       "    .dataframe tbody tr th:only-of-type {\n",
       "        vertical-align: middle;\n",
       "    }\n",
       "\n",
       "    .dataframe tbody tr th {\n",
       "        vertical-align: top;\n",
       "    }\n",
       "\n",
       "    .dataframe thead th {\n",
       "        text-align: right;\n",
       "    }\n",
       "</style>\n",
       "<table border=\"1\" class=\"dataframe\">\n",
       "  <thead>\n",
       "    <tr style=\"text-align: right;\">\n",
       "      <th></th>\n",
       "      <th>player_id</th>\n",
       "      <th>current_club_id</th>\n",
       "      <th>date_of_birth</th>\n",
       "      <th>sub_position</th>\n",
       "      <th>foot</th>\n",
       "      <th>height_in_cm</th>\n",
       "      <th>current_club_domestic_competition_id</th>\n",
       "      <th>first_name</th>\n",
       "      <th>last_name</th>\n",
       "    </tr>\n",
       "  </thead>\n",
       "  <tbody>\n",
       "    <tr>\n",
       "      <th>0</th>\n",
       "      <td>134354.0</td>\n",
       "      <td>498.0</td>\n",
       "      <td>30 01 1995</td>\n",
       "      <td>Centre-Forward</td>\n",
       "      <td>Right</td>\n",
       "      <td>0.0</td>\n",
       "      <td>BE1</td>\n",
       "      <td>Ian</td>\n",
       "      <td>Raeymaekers</td>\n",
       "    </tr>\n",
       "    <tr>\n",
       "      <th>1</th>\n",
       "      <td>99946.0</td>\n",
       "      <td>1095.0</td>\n",
       "      <td>20 09 1990</td>\n",
       "      <td>Centre-Forward</td>\n",
       "      <td>Right</td>\n",
       "      <td>180.0</td>\n",
       "      <td>FR1</td>\n",
       "      <td>Mohamed</td>\n",
       "      <td>Camara</td>\n",
       "    </tr>\n",
       "    <tr>\n",
       "      <th>2</th>\n",
       "      <td>76948.0</td>\n",
       "      <td>979.0</td>\n",
       "      <td>8 12 1987</td>\n",
       "      <td>Centre-Forward</td>\n",
       "      <td>Right</td>\n",
       "      <td>175.0</td>\n",
       "      <td>PO1</td>\n",
       "      <td>Pablo</td>\n",
       "      <td>Olivera</td>\n",
       "    </tr>\n",
       "    <tr>\n",
       "      <th>3</th>\n",
       "      <td>108372.0</td>\n",
       "      <td>38.0</td>\n",
       "      <td>6 02 1992</td>\n",
       "      <td>Centre-Forward</td>\n",
       "      <td>Right</td>\n",
       "      <td>178.0</td>\n",
       "      <td>L1</td>\n",
       "      <td>Aliosman</td>\n",
       "      <td>Aydin</td>\n",
       "    </tr>\n",
       "    <tr>\n",
       "      <th>4</th>\n",
       "      <td>78820.0</td>\n",
       "      <td>354.0</td>\n",
       "      <td>3 01 1984</td>\n",
       "      <td>Centre-Forward</td>\n",
       "      <td>Right</td>\n",
       "      <td>184.0</td>\n",
       "      <td>BE1</td>\n",
       "      <td>Jaime Alfonso</td>\n",
       "      <td>Ruiz</td>\n",
       "    </tr>\n",
       "  </tbody>\n",
       "</table>\n",
       "</div>"
      ],
      "text/plain": [
       "   player_id  current_club_id date_of_birth    sub_position   foot  \\\n",
       "0   134354.0            498.0    30 01 1995  Centre-Forward  Right   \n",
       "1    99946.0           1095.0    20 09 1990  Centre-Forward  Right   \n",
       "2    76948.0            979.0     8 12 1987  Centre-Forward  Right   \n",
       "3   108372.0             38.0     6 02 1992  Centre-Forward  Right   \n",
       "4    78820.0            354.0     3 01 1984  Centre-Forward  Right   \n",
       "\n",
       "   height_in_cm current_club_domestic_competition_id     first_name  \\\n",
       "0           0.0                                  BE1            Ian   \n",
       "1         180.0                                  FR1        Mohamed   \n",
       "2         175.0                                  PO1          Pablo   \n",
       "3         178.0                                   L1       Aliosman   \n",
       "4         184.0                                  BE1  Jaime Alfonso   \n",
       "\n",
       "     last_name  \n",
       "0  Raeymaekers  \n",
       "1       Camara  \n",
       "2      Olivera  \n",
       "3        Aydin  \n",
       "4         Ruiz  "
      ]
     },
     "execution_count": 127,
     "metadata": {},
     "output_type": "execute_result"
    }
   ],
   "source": [
    "players.head()"
   ]
  },
  {
   "cell_type": "code",
   "execution_count": 123,
   "id": "6ebefc2f",
   "metadata": {},
   "outputs": [
    {
     "data": {
      "text/html": [
       "<div>\n",
       "<style scoped>\n",
       "    .dataframe tbody tr th:only-of-type {\n",
       "        vertical-align: middle;\n",
       "    }\n",
       "\n",
       "    .dataframe tbody tr th {\n",
       "        vertical-align: top;\n",
       "    }\n",
       "\n",
       "    .dataframe thead th {\n",
       "        text-align: right;\n",
       "    }\n",
       "</style>\n",
       "<table border=\"1\" class=\"dataframe\">\n",
       "  <thead>\n",
       "    <tr style=\"text-align: right;\">\n",
       "      <th></th>\n",
       "      <th>club_id</th>\n",
       "      <th>name</th>\n",
       "      <th>domestic_competition_id</th>\n",
       "      <th>squad_size</th>\n",
       "    </tr>\n",
       "  </thead>\n",
       "  <tbody>\n",
       "    <tr>\n",
       "      <th>0</th>\n",
       "      <td>3</td>\n",
       "      <td>1 Fc Koln</td>\n",
       "      <td>L1</td>\n",
       "      <td>31</td>\n",
       "    </tr>\n",
       "    <tr>\n",
       "      <th>1</th>\n",
       "      <td>4</td>\n",
       "      <td>1 Fc Nurnberg</td>\n",
       "      <td>L1</td>\n",
       "      <td>28</td>\n",
       "    </tr>\n",
       "    <tr>\n",
       "      <th>2</th>\n",
       "      <td>5</td>\n",
       "      <td>Ac Mailand</td>\n",
       "      <td>IT1</td>\n",
       "      <td>31</td>\n",
       "    </tr>\n",
       "    <tr>\n",
       "      <th>3</th>\n",
       "      <td>6</td>\n",
       "      <td>Adanaspor</td>\n",
       "      <td>TR1</td>\n",
       "      <td>27</td>\n",
       "    </tr>\n",
       "    <tr>\n",
       "      <th>4</th>\n",
       "      <td>10</td>\n",
       "      <td>Arminia Bielefeld</td>\n",
       "      <td>L1</td>\n",
       "      <td>25</td>\n",
       "    </tr>\n",
       "    <tr>\n",
       "      <th>...</th>\n",
       "      <td>...</td>\n",
       "      <td>...</td>\n",
       "      <td>...</td>\n",
       "      <td>...</td>\n",
       "    </tr>\n",
       "    <tr>\n",
       "      <th>406</th>\n",
       "      <td>60551</td>\n",
       "      <td>Sk Dnipro 1</td>\n",
       "      <td>UKR1</td>\n",
       "      <td>27</td>\n",
       "    </tr>\n",
       "    <tr>\n",
       "      <th>407</th>\n",
       "      <td>60949</td>\n",
       "      <td>Volos Nps</td>\n",
       "      <td>GR1</td>\n",
       "      <td>29</td>\n",
       "    </tr>\n",
       "    <tr>\n",
       "      <th>408</th>\n",
       "      <td>61825</td>\n",
       "      <td>Fk Minaj</td>\n",
       "      <td>UKR1</td>\n",
       "      <td>25</td>\n",
       "    </tr>\n",
       "    <tr>\n",
       "      <th>409</th>\n",
       "      <td>68608</td>\n",
       "      <td>Cf Os Belenenses</td>\n",
       "      <td>PO1</td>\n",
       "      <td>28</td>\n",
       "    </tr>\n",
       "    <tr>\n",
       "      <th>410</th>\n",
       "      <td>83678</td>\n",
       "      <td>Metal Kharkiv</td>\n",
       "      <td>UKR1</td>\n",
       "      <td>27</td>\n",
       "    </tr>\n",
       "  </tbody>\n",
       "</table>\n",
       "<p>411 rows × 4 columns</p>\n",
       "</div>"
      ],
      "text/plain": [
       "     club_id               name domestic_competition_id  squad_size\n",
       "0          3          1 Fc Koln                      L1          31\n",
       "1          4      1 Fc Nurnberg                      L1          28\n",
       "2          5         Ac Mailand                     IT1          31\n",
       "3          6          Adanaspor                     TR1          27\n",
       "4         10  Arminia Bielefeld                      L1          25\n",
       "..       ...                ...                     ...         ...\n",
       "406    60551        Sk Dnipro 1                    UKR1          27\n",
       "407    60949          Volos Nps                     GR1          29\n",
       "408    61825           Fk Minaj                    UKR1          25\n",
       "409    68608   Cf Os Belenenses                     PO1          28\n",
       "410    83678      Metal Kharkiv                    UKR1          27\n",
       "\n",
       "[411 rows x 4 columns]"
      ]
     },
     "execution_count": 123,
     "metadata": {},
     "output_type": "execute_result"
    }
   ],
   "source": [
    "clubs "
   ]
  },
  {
   "cell_type": "code",
   "execution_count": 143,
   "id": "d1aee8e6",
   "metadata": {},
   "outputs": [
    {
     "name": "stdout",
     "output_type": "stream",
     "text": [
      "Transaction failed and rolled back: integer out of range\n",
      "\n"
     ]
    }
   ],
   "source": [
    "try:\n",
    "    # Establish a connection to your PostgreSQL database\n",
    "    conn = psycopg2.connect(\"host=127.0.0.1 dbname=football_analysis user=postgres password=Hammaad@Rizwan\")\n",
    "    cur = conn.cursor()\n",
    "\n",
    "    # Begin a new transaction\n",
    "    cur.execute(\"BEGIN\")\n",
    "\n",
    "    # Define your SQL statement for inserting data into the 'competitions' table\n",
    "    \n",
    "    players_insert = (\"\"\"INSERT INTO players(\n",
    "    player_ID ,\n",
    "    club_ID ,\n",
    "    Date_of_birth ,\n",
    "    sub_position ,\n",
    "    foot ,\n",
    "    height ,\n",
    "    competition_ID ,\n",
    "    First_name ,\n",
    "    Last_name)  VALUES(%s,%s,%s,%s,%s,%s,%s,%s,%s)\"\"\")\n",
    "    #games_insert = (\"\"\"INSERT INTO games(Game_ID,competition_ID , Date , Home_club_ID ,Away_club_ID ,Home_club_goals ,Away_club_goals ) VALUES(%s,%s,%s,%s,%s,%s,%s)\"\"\")\n",
    "    \n",
    "    \n",
    "    # Iterate over the rows of the 'competitions' DataFrame and execute the SQL statement\n",
    " \n",
    "    for i, row in players.iterrows():\n",
    "        ListOfPlayers=list(row)\n",
    "        for j in range (len(ListOfPlayers)):\n",
    "            if ListOfPlayers[2]==\"\":\n",
    "                ListOfPlayers[2]=\"None\"\n",
    "            if ListOfPlayers[3]==\"\":\n",
    "                ListOfPlayers[3]=\"None\"\n",
    "            if ListOfPlayers[4]==\"\":\n",
    "                ListOfPlayers[4]=\"None\"\n",
    "            if ListOfPlayers[5]==\"\":\n",
    "                ListOfPlayers[5]=0\n",
    "            if ListOfPlayers[6]==\"\":\n",
    "                ListOfPlayers[6]=\"None\"\n",
    "            if ListOfPlayers[7]==\"\":\n",
    "                ListOfPlayers[7]=\"None\"\n",
    "            if ListOfPlayers[8]==\"\":\n",
    "                ListOfPlayers[8]=\"None\"\n",
    "        cur.execute(players_insert, ListOfPlayers)\n",
    "    cur.execute(\"COMMIT\")\n",
    "\n",
    "except psycopg2.DatabaseError as e:\n",
    "    # Rollback the transaction and handle the error\n",
    "    conn.rollback()\n",
    "    print(\"Transaction failed and rolled back:\", str(e))\n",
    "\n",
    "finally:\n",
    "    # Close the cursor and connection\n",
    "    if cur:\n",
    "        cur.close()\n",
    "    if conn:\n",
    "        conn.close()\n"
   ]
  },
  {
   "cell_type": "code",
   "execution_count": null,
   "id": "ae97773b",
   "metadata": {},
   "outputs": [],
   "source": [
    "nan_values = players.isna()\n",
    "count=0\n",
    "for i in range(len(nan_values)):\n",
    "    nan_values[i]\n",
    "#for i, row in players.iterrows():\n",
    "    "
   ]
  },
  {
   "cell_type": "code",
   "execution_count": 148,
   "id": "73eab81b",
   "metadata": {},
   "outputs": [],
   "source": [
    "try:\n",
    "    # Establish a connection to your PostgreSQL database\n",
    "    conn = psycopg2.connect(\"host=127.0.0.1 dbname=football_analysis user=postgres password=Hammaad@Rizwan\")\n",
    "    cur = conn.cursor()\n",
    "\n",
    "    # Begin a new transaction\n",
    "    cur.execute(\"BEGIN\")\n",
    "    # Define your SQL statement for inserting data into the 'competitions' table\n",
    "    \n",
    "    # Iterate over the rows of the 'competitins' DataFrame and execute the SQL statement\n",
    "    \"\"\"for i, row in clubs.iterrows():\n",
    "        cur.execute(clubs_insert, list(row))\n",
    "    # Commit the transaction\n",
    "    cur.execute(\"COMMIT\")\n",
    "    print(\"Transaction committed successfully!\")\"\"\"\n",
    "\n",
    "except psycopg2.DatabaseError as e:\n",
    "    # Rollback the transaction and handle the error\n",
    "    conn.rollback()\n",
    "    print(\"Transaction failed and rolled back:\", str(e))\n",
    "\n"
   ]
  },
  {
   "cell_type": "code",
   "execution_count": 155,
   "id": "2ddbc328",
   "metadata": {},
   "outputs": [
    {
     "data": {
      "text/plain": [
       "RangeIndex(start=0, stop=59933, step=1)"
      ]
     },
     "execution_count": 155,
     "metadata": {},
     "output_type": "execute_result"
    }
   ],
   "source": [
    "players.index"
   ]
  },
  {
   "cell_type": "code",
   "execution_count": null,
   "id": "ccbde538",
   "metadata": {},
   "outputs": [],
   "source": []
  }
 ],
 "metadata": {
  "kernelspec": {
   "display_name": "Python 3",
   "language": "python",
   "name": "python3"
  },
  "language_info": {
   "codemirror_mode": {
    "name": "ipython",
    "version": 3
   },
   "file_extension": ".py",
   "mimetype": "text/x-python",
   "name": "python",
   "nbconvert_exporter": "python",
   "pygments_lexer": "ipython3",
   "version": "3.8.8"
  }
 },
 "nbformat": 4,
 "nbformat_minor": 5
}
